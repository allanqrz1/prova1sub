{
 "cells": [
  {
   "cell_type": "code",
   "execution_count": 1,
   "id": "663b39be-2ea7-4b55-82d1-9eea85ed9f03",
   "metadata": {},
   "outputs": [
    {
     "name": "stdin",
     "output_type": "stream",
     "text": [
      "digite uma frase:  frASE\n"
     ]
    }
   ],
   "source": [
    "frase = input(\"digite uma frase: \")\n"
   ]
  },
  {
   "cell_type": "code",
   "execution_count": 3,
   "id": "4d1fc208-bc37-4ae6-a941-07ccf96ab7bb",
   "metadata": {},
   "outputs": [
    {
     "name": "stdin",
     "output_type": "stream",
     "text": [
      "digite uma frase:  a frase a seguir é um teste\n"
     ]
    },
    {
     "name": "stdout",
     "output_type": "stream",
     "text": [
      "10\n",
      "11\n",
      "6\n",
      "7\n"
     ]
    }
   ],
   "source": [
    "frase = input(\"digite uma frase: \")\n",
    "vogais = \"aeiouAEIOU\"\n",
    "num_vogais = 0\n",
    "num_consoantes = 0\n",
    "num_espacos = 0\n",
    "for char in frase: \n",
    "    if char in vogais:\n",
    "        num_vogais += 1\n",
    "    elif char.isalpha():\n",
    "        num_consoantes += 1\n",
    "    elif char == \" \":\n",
    "        num_espacos += 1\n",
    "num_palavras = len(frase.split())\n",
    "print (num_vogais)\n",
    "print (num_consoantes)\n",
    "print (num_espacos)\n",
    "print (num_palavras)"
   ]
  },
  {
   "cell_type": "code",
   "execution_count": 5,
   "id": "38424660-ff97-4302-a14a-37b236c68c5b",
   "metadata": {},
   "outputs": [
    {
     "name": "stdin",
     "output_type": "stream",
     "text": [
      "digite uma frase:  a prova foi produtiva e acredito no meu potencial.\n"
     ]
    },
    {
     "name": "stdout",
     "output_type": "stream",
     "text": [
      "21\n",
      "20\n",
      "8\n",
      "9\n"
     ]
    }
   ],
   "source": [
    "frase = input(\"digite uma frase: \")\n",
    "vogais = \"aeiouAEIOU\"\n",
    "num_vogais = 0\n",
    "num_consoantes = 0\n",
    "num_espacos = 0\n",
    "for char in frase: \n",
    "    if char in vogais:\n",
    "        num_vogais += 1\n",
    "    elif char.isalpha():\n",
    "        num_consoantes += 1\n",
    "    elif char == \" \":\n",
    "        num_espacos += 1\n",
    "num_palavras = len(frase.split())\n",
    "print (num_vogais)\n",
    "print (num_consoantes)\n",
    "print (num_espacos)\n",
    "print (num_palavras)"
   ]
  },
  {
   "cell_type": "code",
   "execution_count": null,
   "id": "883c5140-71bd-404f-97d3-9ed3b8bee639",
   "metadata": {},
   "outputs": [],
   "source": []
  }
 ],
 "metadata": {
  "kernelspec": {
   "display_name": "Python 3 (ipykernel)",
   "language": "python",
   "name": "python3"
  },
  "language_info": {
   "codemirror_mode": {
    "name": "ipython",
    "version": 3
   },
   "file_extension": ".py",
   "mimetype": "text/x-python",
   "name": "python",
   "nbconvert_exporter": "python",
   "pygments_lexer": "ipython3",
   "version": "3.12.4"
  }
 },
 "nbformat": 4,
 "nbformat_minor": 5
}
